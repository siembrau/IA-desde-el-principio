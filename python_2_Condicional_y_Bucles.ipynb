{
  "nbformat": 4,
  "nbformat_minor": 0,
  "metadata": {
    "colab": {
      "name": "python - 2 Condicional y Bucles.ipynb",
      "provenance": [],
      "collapsed_sections": [],
      "toc_visible": true,
      "include_colab_link": true
    },
    "kernelspec": {
      "name": "python3",
      "display_name": "Python 3"
    }
  },
  "cells": [
    {
      "cell_type": "markdown",
      "metadata": {
        "id": "view-in-github",
        "colab_type": "text"
      },
      "source": [
        "<a href=\"https://colab.research.google.com/github/siembrau/IA-desde-el-principio/blob/master/python_2_Condicional_y_Bucles.ipynb\" target=\"_parent\"><img src=\"https://colab.research.google.com/assets/colab-badge.svg\" alt=\"Open In Colab\"/></a>"
      ]
    },
    {
      "cell_type": "markdown",
      "metadata": {
        "id": "uFioymyJ980i",
        "colab_type": "text"
      },
      "source": [
        "# Condicionales"
      ]
    },
    {
      "cell_type": "markdown",
      "metadata": {
        "id": "SXgmzbNF-BMq",
        "colab_type": "text"
      },
      "source": [
        "La sentencia condicional if se usa para tomar decisiones, este evaluá básicamente una operación lógica, es decir una expresión que de como resultado True o False, y ejecuta la pieza de código siguiente siempre y cuando el resultado sea verdadero."
      ]
    },
    {
      "cell_type": "code",
      "metadata": {
        "id": "QYu1Knzd-Wna",
        "colab_type": "code",
        "colab": {}
      },
      "source": [
        "numero = int(input(\"\\nIngresa un número entero, por favor: \"))\n",
        "\n",
        "if numero < 0:\n",
        "    numero = 0\n",
        "    print ('El número ingresado es negativo cambiado a cero.\\n')\n",
        "elif numero == 0:\n",
        "    print ('El número ingresado es 0.\\n')\n",
        "elif numero == 1:\n",
        "    print ('El número ingresado es 1.\\n')\n",
        "else:\n",
        "    print ('El número ingresado es mayor que uno.\\n')"
      ],
      "execution_count": 0,
      "outputs": []
    },
    {
      "cell_type": "markdown",
      "metadata": {
        "id": "9QKBeGRn-VVe",
        "colab_type": "text"
      },
      "source": [
        "Note que tras este tipo de sentencias se termina con dos puntos y hay una identación (tabulación) del código, esta es la forma como python reconoce las instrucciones que serán ejecutadas."
      ]
    },
    {
      "cell_type": "markdown",
      "metadata": {
        "id": "wcbuglw0_MNv",
        "colab_type": "text"
      },
      "source": [
        "los comandos <, >, == o != son los que estipulan las condiciones\"\n",
        "\n",
        "\n",
        "*   el <: es menor que \n",
        "*   el >: es mayor que\n",
        "\n",
        "*   el <=: es menor o igual que\n",
        "*   el >=: es mayor o igual que\n",
        "\n",
        "*   el ==: es igual que\n",
        "*   el !=: es diferente que\n",
        "\n",
        "\n",
        "\n"
      ]
    },
    {
      "cell_type": "markdown",
      "metadata": {
        "colab_type": "text",
        "id": "MkxATX1BFRme"
      },
      "source": [
        "### Operadores lógicos\n",
        "\n",
        "Estos son los distintos tipos de operadores con los que puede trabajar con valores booleanos, los llamados operadores lógicos o condicionales:\n",
        "\n",
        "\n",
        "![tabla de verdad](https://farmacon.files.wordpress.com/2008/10/images.jpeg)\n",
        "\n"
      ]
    },
    {
      "cell_type": "markdown",
      "metadata": {
        "id": "P0YfMgf6F-v-",
        "colab_type": "text"
      },
      "source": [
        "**Operador and**\n",
        "\n",
        "El operador and evalúa si el valor del lado izquierdo y el lado derecho se cumple."
      ]
    },
    {
      "cell_type": "code",
      "metadata": {
        "id": "jiIexse4GS-L",
        "colab_type": "code",
        "colab": {}
      },
      "source": [
        "True and False"
      ],
      "execution_count": 0,
      "outputs": []
    },
    {
      "cell_type": "markdown",
      "metadata": {
        "id": "3eA6vragGBMe",
        "colab_type": "text"
      },
      "source": [
        "**Operador or**\n",
        "\n",
        "El operador or evalúa si el valor del lado izquierdo o el lado derecho se cumple."
      ]
    },
    {
      "cell_type": "code",
      "metadata": {
        "id": "47VRDVlIGihk",
        "colab_type": "code",
        "colab": {}
      },
      "source": [
        "True or False"
      ],
      "execution_count": 0,
      "outputs": []
    },
    {
      "cell_type": "markdown",
      "metadata": {
        "id": "FAsbvv8WGIWF",
        "colab_type": "text"
      },
      "source": [
        "**Operador not**\n",
        "\n",
        "El operador not devuelve el valor opuesto la valor booleano"
      ]
    },
    {
      "cell_type": "code",
      "metadata": {
        "id": "oTFdoVX2Gmbi",
        "colab_type": "code",
        "colab": {}
      },
      "source": [
        "True and not False"
      ],
      "execution_count": 0,
      "outputs": []
    },
    {
      "cell_type": "markdown",
      "metadata": {
        "colab_type": "text",
        "id": "M1fZsVfRiaG5"
      },
      "source": [
        "\n",
        "\n",
        "---\n",
        "\n"
      ]
    },
    {
      "cell_type": "markdown",
      "metadata": {
        "id": "Kr3TBlo83Ltz",
        "colab_type": "text"
      },
      "source": [
        "# Bucle `While`"
      ]
    },
    {
      "cell_type": "markdown",
      "metadata": {
        "id": "Qnp-2YXD-JZ4",
        "colab_type": "text"
      },
      "source": [
        "Permite ejecutar ciclos, o bien secuencias periódicas que nos hacen posible ejecutar código múltiples veces.\n",
        "\n",
        "Puede ser guiada por conteo o por evento."
      ]
    },
    {
      "cell_type": "code",
      "metadata": {
        "id": "STEF9qGFATpO",
        "colab_type": "code",
        "colab": {}
      },
      "source": [
        "suma, numero = 0, 1\n",
        "# note como en una misma línea se puede inicializar varias variables\n",
        "\n",
        "while numero <= 10:\n",
        "    suma = numero + suma\n",
        "    numero = numero + 1\n",
        "    # esta variable funciona como un contador\n",
        "print (\"La suma es \" + str(suma))"
      ],
      "execution_count": 0,
      "outputs": []
    },
    {
      "cell_type": "markdown",
      "metadata": {
        "id": "MgOsXpfMBGv3",
        "colab_type": "text"
      },
      "source": [
        "**Sentencia `break`**\n",
        "\n",
        "Esta nos permite salir del ciclo incluso si la expresión evaluada en while (o en otro ciclo como for) permanece siendo True. "
      ]
    },
    {
      "cell_type": "code",
      "metadata": {
        "id": "9UM4Qfx1BKTA",
        "colab_type": "code",
        "colab": {}
      },
      "source": [
        "variable = 10\n",
        "\n",
        "while variable > 0:\n",
        "    print ('valor actual de la variable:', variable)\n",
        "    variable = variable -1\n",
        "    if variable == 5:\n",
        "        break"
      ],
      "execution_count": 0,
      "outputs": []
    },
    {
      "cell_type": "markdown",
      "metadata": {
        "id": "tZck4lhHDOoa",
        "colab_type": "text"
      },
      "source": [
        "Ejemplo de la *secuencia Fibonacci* con `while`\n",
        "\n",
        "(La sucesión comienza con los números 0 y 1, y a partir de estos, «cada término es la suma de los dos anteriores», es la relación de recurrencia que la define.)"
      ]
    },
    {
      "cell_type": "code",
      "metadata": {
        "id": "zbAPPK0mDNO1",
        "colab_type": "code",
        "colab": {}
      },
      "source": [
        "a, b = 0, 1\n",
        "while b < 100:\n",
        "    print (b)\n",
        "    a, b = b, a + b"
      ],
      "execution_count": 0,
      "outputs": []
    },
    {
      "cell_type": "markdown",
      "metadata": {
        "id": "YhiKAP54ivxh",
        "colab_type": "text"
      },
      "source": [
        "\n",
        "\n",
        "---\n",
        "\n"
      ]
    },
    {
      "cell_type": "markdown",
      "metadata": {
        "id": "akt_E_r6AVE5",
        "colab_type": "text"
      },
      "source": [
        "# Bucle ```for```\n",
        "\n",
        "itera sobre los ítems de cualquier secuencia (una lista o una cadenas de caracteres), en el orden que aparecen en la secuencia.\n",
        "\n"
      ]
    },
    {
      "cell_type": "code",
      "metadata": {
        "id": "nfLRFJqIDCDo",
        "colab_type": "code",
        "colab": {}
      },
      "source": [
        "for x in range(5):\n",
        "    print (x)"
      ],
      "execution_count": 0,
      "outputs": []
    },
    {
      "cell_type": "code",
      "metadata": {
        "id": "Nm92vIipDMoe",
        "colab_type": "code",
        "colab": {}
      },
      "source": [
        "for x in range(100,125):\n",
        "    print (x)"
      ],
      "execution_count": 0,
      "outputs": []
    },
    {
      "cell_type": "code",
      "metadata": {
        "id": "oOro6q3Yy2Mm",
        "colab_type": "code",
        "colab": {}
      },
      "source": [
        "for multiplos_de_tres in range(1,100,3):\n",
        "  print(multiplos_de_tres)"
      ],
      "execution_count": 0,
      "outputs": []
    },
    {
      "cell_type": "markdown",
      "metadata": {
        "id": "eZWpU2GAG9wx",
        "colab_type": "text"
      },
      "source": [
        "## con listas\n",
        "\n",
        "for se puede utilizar con cualquier objeto con el que se pueda iterar (ir saltando de elemento en elemento)"
      ]
    },
    {
      "cell_type": "code",
      "metadata": {
        "id": "jYZTFaw6JUJz",
        "colab_type": "code",
        "colab": {}
      },
      "source": [
        "animales = ['gato', 'perro', 'serpiente']\n",
        "for animal in animales:\n",
        "    print (\"El animal es: \", animal)"
      ],
      "execution_count": 0,
      "outputs": []
    },
    {
      "cell_type": "code",
      "metadata": {
        "id": "e4bM0guQHlYl",
        "colab_type": "code",
        "colab": {}
      },
      "source": [
        "animales = ['gato', 'perro', 'serpiente']\n",
        "for animal in animales:\n",
        "    print (\"El animal es: {0}\".format(animal))\n",
        "# el método str.format() introduce algun elemento dentro de la salida de una  \n",
        "# cadena (string), definida por los corchetes ({0})"
      ],
      "execution_count": 0,
      "outputs": []
    },
    {
      "cell_type": "code",
      "metadata": {
        "id": "4andkZwPHOIo",
        "colab_type": "code",
        "colab": {}
      },
      "source": [
        "animales = ['gato', 'perro', 'serpiente']\n",
        "for animal in animales:\n",
        "    print (\"El animal es: {0}, el tamaño de palabra es: {1}\".format(animal, len(animal)))"
      ],
      "execution_count": 0,
      "outputs": []
    },
    {
      "cell_type": "code",
      "metadata": {
        "id": "qlmu6jZj2wxf",
        "colab_type": "code",
        "colab": {}
      },
      "source": [
        "vocales = 'aeiou'\n",
        "\n",
        "for letra in 'hermosa':\n",
        "  if letra in vocales:\n",
        "    print (letra)"
      ],
      "execution_count": 0,
      "outputs": []
    },
    {
      "cell_type": "markdown",
      "metadata": {
        "id": "3LbgF-xIF7o9",
        "colab_type": "text"
      },
      "source": [
        "**Bucles anidados**\n"
      ]
    },
    {
      "cell_type": "code",
      "metadata": {
        "id": "yI0b3qdA36K7",
        "colab_type": "code",
        "colab": {}
      },
      "source": [
        "mensaje = \"desde el día en que nos fuimos\"\n",
        "\n",
        "for palabra in mensaje.split():\n",
        "  print (palabra)"
      ],
      "execution_count": 0,
      "outputs": []
    },
    {
      "cell_type": "code",
      "metadata": {
        "id": "eT2XSNlWGGq7",
        "colab_type": "code",
        "colab": {}
      },
      "source": [
        "for i in [0, 1, 2]:\n",
        "  for j in [0, 1]:\n",
        "    print(f\"i vale {i} y j vale {j}\")\n",
        "\n",
        "#la f indica en la impresión que lo que está entre corchetes se cambia por el valor de la variable"
      ],
      "execution_count": 0,
      "outputs": []
    },
    {
      "cell_type": "markdown",
      "metadata": {
        "id": "ujvJVIvgJ1_I",
        "colab_type": "text"
      },
      "source": [
        "## con Listas y función ‘range’"
      ]
    },
    {
      "cell_type": "code",
      "metadata": {
        "id": "roNw5nYHJ9ER",
        "colab_type": "code",
        "colab": {}
      },
      "source": [
        "oracion = 'Estamos aprendiendo el funcionamiento del iterador for en Python'\n",
        "frases = oracion.split() # convierte a una lista cada palabra\n",
        "print (\"La oración analizada es:\", oracion, \".\\n\")\n",
        "\n",
        "for palabra in range(len(frases)):\n",
        "    print (\"Palabra: {0}, en la frase su posición es: {1}\".format(\n",
        "        frases[palabra], palabra))"
      ],
      "execution_count": 0,
      "outputs": []
    },
    {
      "cell_type": "markdown",
      "metadata": {
        "id": "J5HMP7k2K2uT",
        "colab_type": "text"
      },
      "source": [
        "## con Tuplas"
      ]
    },
    {
      "cell_type": "code",
      "metadata": {
        "id": "CWU_-ASOK5LO",
        "colab_type": "code",
        "colab": {}
      },
      "source": [
        "conexion_bd = \"127.0.0.1\",\"root\",\"123456\",\"nomina\"\n",
        "for parametro in conexion_bd:\n",
        "    print (parametro)"
      ],
      "execution_count": 0,
      "outputs": []
    },
    {
      "cell_type": "code",
      "metadata": {
        "id": "FGfuLr_qznEJ",
        "colab_type": "code",
        "colab": {}
      },
      "source": [
        "autos = ('Kia', 'Hiunday', 'Ferrari', 'Tesla', 'BMW', 'Audi', 'Ford')\n",
        "for i, auto in enumerate(autos):\n",
        "  print(str(i) + \" - \"+ auto)"
      ],
      "execution_count": 0,
      "outputs": []
    },
    {
      "cell_type": "markdown",
      "metadata": {
        "id": "_rIYKsu66Mzg",
        "colab_type": "text"
      },
      "source": [
        "**Iterar sobre dos o más secuencias**\n",
        "\n",
        "Para iterar sobre dos o más secuencias al mismo tiempo, los valores pueden emparejarse con la función integrada **`zip()`**."
      ]
    },
    {
      "cell_type": "code",
      "metadata": {
        "id": "eQzOtpMp50oT",
        "colab_type": "code",
        "colab": {}
      },
      "source": [
        "preguntas = ['nombre', 'objetivo', 'sistema operativo']\n",
        "respuestas = ['Leonardo', 'aprender Python y Plone', 'Linux']\n",
        "\n",
        "for pregunta, respuesta in zip(preguntas, respuestas):\n",
        "  print ('¿Cual es tu {0}?, la respuesta es: {1}.'.format(pregunta, respuesta))"
      ],
      "execution_count": 0,
      "outputs": []
    }
  ]
}