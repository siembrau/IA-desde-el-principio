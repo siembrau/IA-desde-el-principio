{
  "nbformat": 4,
  "nbformat_minor": 0,
  "metadata": {
    "colab": {
      "name": "python - 1 Variables y Estructuras de Datos.ipynb",
      "provenance": [],
      "collapsed_sections": [],
      "toc_visible": true,
      "include_colab_link": true
    },
    "kernelspec": {
      "name": "python3",
      "display_name": "Python 3"
    }
  },
  "cells": [
    {
      "cell_type": "markdown",
      "metadata": {
        "id": "view-in-github",
        "colab_type": "text"
      },
      "source": [
        "<a href=\"https://colab.research.google.com/github/siembrau/IA-desde-el-principio/blob/master/python_1_Variables_y_Estructuras_de_Datos.ipynb\" target=\"_parent\"><img src=\"https://colab.research.google.com/assets/colab-badge.svg\" alt=\"Open In Colab\"/></a>"
      ]
    },
    {
      "cell_type": "markdown",
      "metadata": {
        "id": "5nB3q_YkNz_1",
        "colab_type": "text"
      },
      "source": [
        "# Generalidades de Python\n",
        "\n",
        "\n"
      ]
    },
    {
      "cell_type": "markdown",
      "metadata": {
        "id": "l5djIAWvM_u9",
        "colab_type": "text"
      },
      "source": [
        "Python es un lenguaje interpretado, lo que significa que la mayoría de sus instrucciones se ejecutan directamente.\n",
        "\n",
        "Así es que posee funcionalidades parecidas a una simple calculadora de mano"
      ]
    },
    {
      "cell_type": "code",
      "metadata": {
        "id": "KVMpxyuR8KSb",
        "colab_type": "code",
        "colab": {}
      },
      "source": [
        "1+9"
      ],
      "execution_count": 0,
      "outputs": []
    },
    {
      "cell_type": "code",
      "metadata": {
        "id": "mJxUOCox7wRP",
        "colab_type": "code",
        "colab": {}
      },
      "source": [
        "\"Hola \" + \"mundo\""
      ],
      "execution_count": 0,
      "outputs": []
    },
    {
      "cell_type": "code",
      "metadata": {
        "id": "bIM23XgqOWuE",
        "colab_type": "code",
        "colab": {}
      },
      "source": [
        "print (\"Hola mundo\")"
      ],
      "execution_count": 0,
      "outputs": []
    },
    {
      "cell_type": "markdown",
      "metadata": {
        "id": "-aMXsTl5OCL2",
        "colab_type": "text"
      },
      "source": [
        "\n",
        "\n",
        "---\n",
        "\n"
      ]
    },
    {
      "cell_type": "markdown",
      "metadata": {
        "id": "OusWqtTSL-AE",
        "colab_type": "text"
      },
      "source": [
        "# Variable\n",
        "\n",
        "Es un nombre que se refiere a un objeto que reside en la memoria. El objeto puede ser de alguno de los tipos vistos (número o cadena de texto), o alguno de los otros tipos existentes en Python.\n",
        "\n",
        "Cada variable debe tener un nombre único llamado **identificador**. Eso es muy de ayuda pensar las variables como contenedores que contienen data el cual puede ser cambiado después a través de técnicas de programación.\n"
      ]
    },
    {
      "cell_type": "code",
      "metadata": {
        "id": "FMHEwAdxPqru",
        "colab_type": "code",
        "colab": {}
      },
      "source": [
        "a= 5"
      ],
      "execution_count": 0,
      "outputs": []
    },
    {
      "cell_type": "code",
      "metadata": {
        "id": "gqZzM98EPv70",
        "colab_type": "code",
        "colab": {}
      },
      "source": [
        "a"
      ],
      "execution_count": 0,
      "outputs": []
    },
    {
      "cell_type": "markdown",
      "metadata": {
        "id": "4AhGL67MR0az",
        "colab_type": "text"
      },
      "source": [
        "El igual (=) funciona como un **operador de asignación**, enlaza un nombre, en el lado izquierdo del operador, con un valor en el lado derecho."
      ]
    },
    {
      "cell_type": "code",
      "metadata": {
        "id": "zf620INLPynf",
        "colab_type": "code",
        "colab": {}
      },
      "source": [
        "a= 8"
      ],
      "execution_count": 0,
      "outputs": []
    },
    {
      "cell_type": "code",
      "metadata": {
        "id": "aUWVIntuP1-e",
        "colab_type": "code",
        "colab": {}
      },
      "source": [
        "a"
      ],
      "execution_count": 0,
      "outputs": []
    },
    {
      "cell_type": "markdown",
      "metadata": {
        "id": "hsBZiymyMsl_",
        "colab_type": "text"
      },
      "source": [
        "Las cadenas de caracteres (palabras) pertenezcan al tipo `str` (string), los enteros pertenezcan al tipo `int` . \n",
        "\n",
        "Los números con un punto decimal pertenezcan a un tipo llamado `float`, porque éstos se representan en un formato denominado punto flotante."
      ]
    },
    {
      "cell_type": "code",
      "metadata": {
        "id": "OiHyBizaP_EN",
        "colab_type": "code",
        "colab": {}
      },
      "source": [
        "palabra1= \"Bien\"\n",
        "palabra2= \"venidos\"\n",
        "palabra3= t + z"
      ],
      "execution_count": 0,
      "outputs": []
    },
    {
      "cell_type": "code",
      "metadata": {
        "id": "IzpcQRx0QNLp",
        "colab_type": "code",
        "colab": {}
      },
      "source": [
        "palabra3"
      ],
      "execution_count": 0,
      "outputs": []
    },
    {
      "cell_type": "code",
      "metadata": {
        "id": "lTCAGDAWcVes",
        "colab_type": "code",
        "colab": {}
      },
      "source": [
        "t + \"_\" + z"
      ],
      "execution_count": 0,
      "outputs": []
    },
    {
      "cell_type": "code",
      "metadata": {
        "id": "Y3n0YNPnQNxX",
        "colab_type": "code",
        "colab": {}
      },
      "source": [
        "palabra4 = \"3,1416\"\n",
        "palabra4"
      ],
      "execution_count": 0,
      "outputs": []
    },
    {
      "cell_type": "markdown",
      "metadata": {
        "id": "F-iUlqy_XU0D",
        "colab_type": "text"
      },
      "source": [
        "Otra tipo de variables pueden tener valores cierto o falso, son conocidos como `booleans` "
      ]
    },
    {
      "cell_type": "code",
      "metadata": {
        "id": "jPZEYPNsXlhB",
        "colab_type": "code",
        "colab": {}
      },
      "source": [
        "j = True\n",
        "j"
      ],
      "execution_count": 0,
      "outputs": []
    },
    {
      "cell_type": "markdown",
      "metadata": {
        "id": "EDOsosbnTNPP",
        "colab_type": "text"
      },
      "source": [
        "Existen unas recomendaciones generales para el uso de los nombres de variables en Python debe ajustarse a las siguientes tres simples reglas:\n",
        "\n",
        "- Son secuencias arbitrariamente largas de letras y dígitos.\n",
        "\n",
        "- La secuencia debe empezar con una letra.\n",
        "\n",
        "- Además de a..z, y A..Z, el guión bajo (_) es una letra.\n",
        "\n",
        "\n",
        "Los programadores generalmente escogen nombres significativos que especifiquen para qué se usa la variable. Ejemplos:\n",
        "\n",
        "```\n",
        "peso_mango1\n",
        "\n",
        "nro_capas\n",
        "```\n",
        "En otros lenguajes se introducen mayusculas para indicar una nueva palabra en vez del guión bajo:\n",
        "```\n",
        "pesoMango1\n",
        "\n",
        "nroCapas\n",
        "```\n",
        "\n",
        "\n",
        "\n"
      ]
    },
    {
      "cell_type": "markdown",
      "metadata": {
        "id": "T0ssSmWlWLjn",
        "colab_type": "text"
      },
      "source": [
        "Un nombre inválido a una variable obtendrá un error de sintaxis:"
      ]
    },
    {
      "cell_type": "code",
      "metadata": {
        "id": "YufgSQ8OWOiE",
        "colab_type": "code",
        "colab": {}
      },
      "source": [
        "4palabra"
      ],
      "execution_count": 0,
      "outputs": []
    },
    {
      "cell_type": "code",
      "metadata": {
        "id": "4B8iBCbQWTxS",
        "colab_type": "code",
        "colab": {}
      },
      "source": [
        "palabra$"
      ],
      "execution_count": 0,
      "outputs": []
    },
    {
      "cell_type": "markdown",
      "metadata": {
        "id": "OEvRTGarWfUw",
        "colab_type": "text"
      },
      "source": [
        "Existen palabras reservadas que son instrucciones especiales para python que no pueden ser usadas como variables:\n",
        "\n",
        "```\n",
        "and\t\n",
        "as\t\n",
        "assert\t\n",
        "break\t\n",
        "class\t\n",
        "continue\n",
        "def\t\n",
        "del\t\n",
        "elif\t\n",
        "else\t\n",
        "except\t\n",
        "exec\n",
        "finally\t\n",
        "for\t\n",
        "from\t\n",
        "global\t\n",
        "if\t\n",
        "import\n",
        "in\t\n",
        "is\t\n",
        "lambda\t\n",
        "nonlocal\t\n",
        "not\t\n",
        "or\n",
        "pass\t\n",
        "raise\t\n",
        "return\t\n",
        "try\t\n",
        "while\t\n",
        "with\n",
        "yield\t\n",
        "True\t\n",
        "False\t\n",
        "None\n",
        "```\n",
        "\n"
      ]
    },
    {
      "cell_type": "code",
      "metadata": {
        "id": "5eNJAvJiac40",
        "colab_type": "code",
        "colab": {}
      },
      "source": [
        "as= 6"
      ],
      "execution_count": 0,
      "outputs": []
    },
    {
      "cell_type": "code",
      "metadata": {
        "id": "Ejn9riqAbGex",
        "colab_type": "code",
        "colab": {}
      },
      "source": [
        "return = \"mañana\""
      ],
      "execution_count": 0,
      "outputs": []
    },
    {
      "cell_type": "markdown",
      "metadata": {
        "id": "IvoiqdXrdUiB",
        "colab_type": "text"
      },
      "source": [
        "## Formatting\n",
        "Formatea números y variables como cadenas de caracteres. Existen tres maneras:"
      ]
    },
    {
      "cell_type": "markdown",
      "metadata": {
        "id": "cuDFT-91lOla",
        "colab_type": "text"
      },
      "source": [
        "**Mediante el operador porcentaje**"
      ]
    },
    {
      "cell_type": "code",
      "metadata": {
        "id": "MU9bhyzSdVG4",
        "colab_type": "code",
        "colab": {}
      },
      "source": [
        "v1 = \"Int: %i\" % 4               # 4\n",
        "v2 = \"Int zero padded: %03i\" % 4 # 004\n",
        "v3 = \"Int space padded: %3i\" % 4 #   4\n",
        "v4 = \"Hex: %x\" % 31              # 1f\n",
        "v5 = \"Hex 2: %X\" % 31            # 1F - capitalized F\n",
        "v6 = \"Oct: %o\" % 8               # 10\n",
        "v7 = \"Float: %f\" % 2.4           # 2.400000\n",
        "v8 = \"Float: %.2f\" % 2.4         # 2.40\n",
        "v9 = \"Float in exp: %e\" % 2.4    # 2.400000e+00\n",
        "vA = \"Float in exp: %E\" % 2.4    # 2.400000E+00\n",
        "vB = \"List as string: %s\" % [1, 2, 3]\n",
        "vC = \"Left padded str: %10s\" % \"cat\"\n",
        "vD = \"Right padded str: %-10s\" % \"cat\"\n",
        "vE = \"Truncated str: %.2s\" % \"cat\"\n",
        "vF = \"Dict value str: %(age)s\" % {\"age\": 20}\n",
        "vG = \"Char: %c\" % 65             # A\n",
        "vH = \"Char: %c\" % \"A\"            # A"
      ],
      "execution_count": 0,
      "outputs": []
    },
    {
      "cell_type": "code",
      "metadata": {
        "id": "cZ_GZ2SwdqLS",
        "colab_type": "code",
        "colab": {}
      },
      "source": [
        "vC"
      ],
      "execution_count": 0,
      "outputs": []
    },
    {
      "cell_type": "code",
      "metadata": {
        "id": "dt2TsSNFeZ-S",
        "colab_type": "code",
        "colab": {}
      },
      "source": [
        "\"Dato1: %10i\" %1, \"Dato2: %10i\" %2, \"Dato3: %10i\" %3"
      ],
      "execution_count": 0,
      "outputs": []
    },
    {
      "cell_type": "markdown",
      "metadata": {
        "id": "e3R0Nwe5fv6-",
        "colab_type": "text"
      },
      "source": [
        "**Método `format() string`**\n",
        "\n",
        "\n"
      ]
    },
    {
      "cell_type": "code",
      "metadata": {
        "id": "-OaE5P6KfuyX",
        "colab_type": "code",
        "colab": {}
      },
      "source": [
        "v1 = \"Arg 0: {0}\".format(31)     # 31\n",
        "v2 = \"Args 0 and 1: {0}, {1}\".format(31, 65)\n",
        "v3 = \"Args 0 and 1: {}, {}\".format(31, 65)\n",
        "v4 = \"Arg indexed: {0[0]}\".format([\"e1\", \"e2\"])\n",
        "v5 = \"Arg named: {a}\".format(a=31)\n",
        "v6 = \"Hex: {0:x}\".format(31)     # 1f\n",
        "v7 = \"Hex: {:x}\".format(31)      # 1f - arg 0 is implied\n",
        "v8 = \"Char: {0:c}\".format(65)    # A\n",
        "v9 = \"Hex: {:{h}}\".format(31, h=\"x\") # 1f - nested evaluation"
      ],
      "execution_count": 0,
      "outputs": []
    },
    {
      "cell_type": "code",
      "metadata": {
        "id": "E2lqVPWWgBPo",
        "colab_type": "code",
        "colab": {}
      },
      "source": [
        "v6"
      ],
      "execution_count": 0,
      "outputs": []
    },
    {
      "cell_type": "markdown",
      "metadata": {
        "id": "08Ad693bka1a",
        "colab_type": "text"
      },
      "source": [
        "**Usando la interpolación literal de cadenas**"
      ]
    },
    {
      "cell_type": "code",
      "metadata": {
        "id": "P_UxF92IkZ4r",
        "colab_type": "code",
        "colab": {}
      },
      "source": [
        "int1 = 31; int2 = 41; str1=\"aaa\"; myhex = \"x\"\n",
        "v1 = f\"Two ints: {int1} {int2}\"\n",
        "v2 = f\"Int plus 1: {int1+1}\"      # 32 - expression evaluation\n",
        "v3 = f\"Str len: {len(str1)}\"      # 3 - expression evaluation\n",
        "v4 = f\"Hex: {int1:x}\"             # 1f\n",
        "v5 = f\"Hex: {int1:{myhex}}\"       # 1f - nested evaluation"
      ],
      "execution_count": 0,
      "outputs": []
    },
    {
      "cell_type": "code",
      "metadata": {
        "id": "iTI1Y08FlZgn",
        "colab_type": "code",
        "colab": {}
      },
      "source": [
        "v5"
      ],
      "execution_count": 0,
      "outputs": []
    },
    {
      "cell_type": "markdown",
      "metadata": {
        "id": "cxiRBKFR3co-",
        "colab_type": "text"
      },
      "source": [
        "# Operadores de asignaciones"
      ]
    },
    {
      "cell_type": "markdown",
      "metadata": {
        "id": "9D63B4Q-3lSR",
        "colab_type": "text"
      },
      "source": [
        "=\n",
        "\n",
        "asigna valor a una variable"
      ]
    },
    {
      "cell_type": "markdown",
      "metadata": {
        "id": "M2sPCrZp3pVb",
        "colab_type": "text"
      },
      "source": [
        "`+=`\n",
        "\n",
        "suma el valor a la variable\n",
        "\n",
        "`-=`\n",
        "\n",
        "resta el valor a la variable\n",
        "\n",
        "`*=`\n",
        "\n",
        "multiplica el valor a la variable\n",
        "\n",
        "/=\n",
        "\n",
        "divide el valor a la variable\n",
        "\n",
        "**=\n",
        "\n",
        "calcula el exponente del valor de la variable"
      ]
    },
    {
      "cell_type": "code",
      "metadata": {
        "id": "WU64lnld4PTO",
        "colab_type": "code",
        "colab": {}
      },
      "source": [
        "m = 22"
      ],
      "execution_count": 0,
      "outputs": []
    },
    {
      "cell_type": "code",
      "metadata": {
        "id": "Z4iNywSH4LHf",
        "colab_type": "code",
        "colab": {}
      },
      "source": [
        "m += 18\n",
        "m"
      ],
      "execution_count": 0,
      "outputs": []
    },
    {
      "cell_type": "code",
      "metadata": {
        "id": "1XBbmcMo4VO3",
        "colab_type": "code",
        "colab": {}
      },
      "source": [
        "m **=2\n",
        "m"
      ],
      "execution_count": 0,
      "outputs": []
    },
    {
      "cell_type": "code",
      "metadata": {
        "id": "I-y9l26q4cO4",
        "colab_type": "code",
        "colab": {}
      },
      "source": [
        "m/16"
      ],
      "execution_count": 0,
      "outputs": []
    },
    {
      "cell_type": "markdown",
      "metadata": {
        "id": "nCViI7z1VNhX",
        "colab_type": "text"
      },
      "source": [
        "\n",
        "\n",
        "---\n",
        "\n"
      ]
    },
    {
      "cell_type": "markdown",
      "metadata": {
        "id": "LScliGx1RRXW",
        "colab_type": "text"
      },
      "source": [
        "# Sentencias\n",
        "Una **sentencia** es una instrucción que el intérprete de Python puede ejecutar. "
      ]
    },
    {
      "cell_type": "code",
      "metadata": {
        "id": "z712GikqSke6",
        "colab_type": "code",
        "colab": {}
      },
      "source": [
        "print (\"Este es un ejemplo de una orden de impresión en pantalla\")"
      ],
      "execution_count": 0,
      "outputs": []
    },
    {
      "cell_type": "code",
      "metadata": {
        "id": "Jt401V4_Q1d2",
        "colab_type": "code",
        "colab": {}
      },
      "source": [
        "print(palabra4)"
      ],
      "execution_count": 0,
      "outputs": []
    },
    {
      "cell_type": "code",
      "metadata": {
        "id": "Z5vZTZHuoQdw",
        "colab_type": "code",
        "colab": {}
      },
      "source": [
        "palabra1 * 8"
      ],
      "execution_count": 0,
      "outputs": []
    },
    {
      "cell_type": "code",
      "metadata": {
        "id": "cV4jipgGSyrP",
        "colab_type": "code",
        "colab": {}
      },
      "source": [
        "len(\"Mediante esta función se cuentan el número de caracteres tiene esta frase\")"
      ],
      "execution_count": 0,
      "outputs": []
    },
    {
      "cell_type": "markdown",
      "metadata": {
        "id": "2AOEpZhsYyI4",
        "colab_type": "text"
      },
      "source": [
        "Una **expresión** es una combinación de valores, variables, operadores y las llamadas funciones. Si escribe una expresión en la línea de comandos de python, el intérprete la evalúa y despliega el resultado:"
      ]
    },
    {
      "cell_type": "code",
      "metadata": {
        "id": "q8onk-ybbV5U",
        "colab_type": "code",
        "colab": {}
      },
      "source": [
        "x = 19\n",
        "y = len(\"todos las mañanas\")\n",
        "z = x + y\n",
        "\n",
        "print(z)"
      ],
      "execution_count": 0,
      "outputs": []
    },
    {
      "cell_type": "markdown",
      "metadata": {
        "id": "TtnGFy3NdPYQ",
        "colab_type": "text"
      },
      "source": [
        "Las instrucciones int, float, y str convierte el argumento en tipos int, float y str respectivamente. Sin redondear."
      ]
    },
    {
      "cell_type": "code",
      "metadata": {
        "id": "H3hIjLcLdObs",
        "colab_type": "code",
        "colab": {}
      },
      "source": [
        "int (867.78)"
      ],
      "execution_count": 0,
      "outputs": []
    },
    {
      "cell_type": "code",
      "metadata": {
        "id": "SdZqcbr0doFK",
        "colab_type": "code",
        "colab": {}
      },
      "source": [
        "d = \"123.45\"\n",
        "float(d)"
      ],
      "execution_count": 0,
      "outputs": []
    },
    {
      "cell_type": "code",
      "metadata": {
        "id": "yHGmKkSxe03r",
        "colab_type": "code",
        "colab": {}
      },
      "source": [
        "# este es un comentario \n",
        "# el argumento que sigue al # no se ejecuta\n",
        "# la función type indica el tipo de variable del argumento\n",
        "type (d)"
      ],
      "execution_count": 0,
      "outputs": []
    },
    {
      "cell_type": "code",
      "metadata": {
        "id": "0u3htkLLe5OB",
        "colab_type": "code",
        "colab": {}
      },
      "source": [
        "str(123.45)"
      ],
      "execution_count": 0,
      "outputs": []
    },
    {
      "cell_type": "markdown",
      "metadata": {
        "id": "g-dp3gD6hGBV",
        "colab_type": "text"
      },
      "source": [
        "## Entrada (Input)\n",
        "Se trata de una función en Python para obtener la entrada a partir del usuario"
      ]
    },
    {
      "cell_type": "code",
      "metadata": {
        "id": "aloH5uOdhUJ3",
        "colab_type": "code",
        "colab": {}
      },
      "source": [
        "dato = input (\"Por favor entre el número para realizar la operación: \")"
      ],
      "execution_count": 0,
      "outputs": []
    },
    {
      "cell_type": "code",
      "metadata": {
        "id": "14idtPgQig9B",
        "colab_type": "code",
        "colab": {}
      },
      "source": [
        "# el valor introducido sera una cadena de caracteres (string) \n",
        "# para su realizar la operación requiere convertirlo a un valor numérico\n",
        "dato = float (dato)\n",
        "\n",
        "# note como python permite utilizar el mismo identificador (nombre de variable) incluso haciendo una operación sobre esa misma variable (con su valor anterior)"
      ],
      "execution_count": 0,
      "outputs": []
    },
    {
      "cell_type": "code",
      "metadata": {
        "id": "PcTAbtOohXsu",
        "colab_type": "code",
        "colab": {}
      },
      "source": [
        "print (\"El resultado de elevar al cuadrado su número es: \", dato**2)\n",
        "# el operador ** indica exponencial y los parentesis hacen que se ejecute primero la operación antes de imprimirlo"
      ],
      "execution_count": 0,
      "outputs": []
    },
    {
      "cell_type": "markdown",
      "metadata": {
        "id": "_fhCjBJSguZ6",
        "colab_type": "text"
      },
      "source": [
        "## Composición\n",
        "Consiste en mezclar varias sentencias en una sola expresión "
      ]
    },
    {
      "cell_type": "code",
      "metadata": {
        "id": "pMrYF6VLg-70",
        "colab_type": "code",
        "colab": {}
      },
      "source": [
        "print (\"El resultado de elevar al cuadrado su número es: \", (float(input (\"Por favor entre el número para realizar la operación: \"))**2))"
      ],
      "execution_count": 0,
      "outputs": []
    },
    {
      "cell_type": "markdown",
      "metadata": {
        "id": "jUzkAlhemDxR",
        "colab_type": "text"
      },
      "source": [
        "Se debe tener cuidado en el uso de los parentesis, un motivo habitual de error se deriva de su uso inadecuado"
      ]
    },
    {
      "cell_type": "code",
      "metadata": {
        "id": "axtlSjq2lwoO",
        "colab_type": "code",
        "colab": {}
      },
      "source": [
        "print (\"El resultado de elevar al cuadrado su número es: \", float(input (\"Por favor entre el número para realizar la operación: \")**2))\n",
        "# en este caso primero se realiza la operación ** (potencia) que la conversión a float, generando un error de tipeado"
      ],
      "execution_count": 0,
      "outputs": []
    },
    {
      "cell_type": "markdown",
      "metadata": {
        "id": "WNxZJuN8mwNP",
        "colab_type": "text"
      },
      "source": [
        "**El entorno Jupiter (sobre el que trabaja Google Colaboratory) permite la búsqueda del tipo de error en la Internet.**"
      ]
    },
    {
      "cell_type": "markdown",
      "metadata": {
        "id": "DCJp9_UslX1h",
        "colab_type": "text"
      },
      "source": [
        "\n",
        "\n",
        "---\n",
        "\n"
      ]
    },
    {
      "cell_type": "markdown",
      "metadata": {
        "id": "wWAxz730lZbp",
        "colab_type": "text"
      },
      "source": [
        "# Listas\n",
        "Python tiene varios tipos de datos compuestos y dentro de las secuencias, están los tipos de cadenas de caracteres. Otro tipo muy importante de secuencia son las listas.\n",
        "\n",
        "Una lista en Python es una estructura de datos formada por una secuencia ordenada de objetos.\n",
        "\n"
      ]
    },
    {
      "cell_type": "markdown",
      "metadata": {
        "id": "tMMPPerstKdz",
        "colab_type": "text"
      },
      "source": [
        "Las listas en Python son:\n",
        "\n",
        "heterogéneas: pueden estar conformadas por elementos de distintos tipo, incluidos otras listas.\n",
        "mutables: sus elementos pueden modificarse."
      ]
    },
    {
      "cell_type": "code",
      "metadata": {
        "id": "j1nUHOTFthrl",
        "colab_type": "code",
        "colab": {}
      },
      "source": [
        "compras = ['pan', 'huevos', 100, 4.55]\n",
        "#los puestos de las listas comienzan en 0"
      ],
      "execution_count": 0,
      "outputs": []
    },
    {
      "cell_type": "code",
      "metadata": {
        "id": "yCdE5Ptquwy9",
        "colab_type": "code",
        "colab": {}
      },
      "source": [
        "compras [2]\n",
        "#devuelve el tercer elemento de la lista"
      ],
      "execution_count": 0,
      "outputs": []
    },
    {
      "cell_type": "code",
      "metadata": {
        "id": "Fh39MATWvGcV",
        "colab_type": "code",
        "colab": {}
      },
      "source": [
        "compras [-1]\n",
        "#devuelve el último elemento de la lista"
      ],
      "execution_count": 0,
      "outputs": []
    },
    {
      "cell_type": "markdown",
      "metadata": {
        "id": "tGl7DWXquaCX",
        "colab_type": "text"
      },
      "source": [
        "La función `len ()` devuelve el nro de elementos de la lista"
      ]
    },
    {
      "cell_type": "code",
      "metadata": {
        "id": "hysNbCG0uKOC",
        "colab_type": "code",
        "colab": {}
      },
      "source": [
        "len(compras)"
      ],
      "execution_count": 0,
      "outputs": []
    },
    {
      "cell_type": "markdown",
      "metadata": {
        "id": "KJ-WPpMcwDNp",
        "colab_type": "text"
      },
      "source": [
        "**Método `append ()`**\n",
        "\n",
        "Agrega un elemento al final de una lista"
      ]
    },
    {
      "cell_type": "code",
      "metadata": {
        "id": "uW2lA0vVwAy2",
        "colab_type": "code",
        "colab": {}
      },
      "source": [
        "compras.append ('mango')\n",
        "compras"
      ],
      "execution_count": 0,
      "outputs": []
    },
    {
      "cell_type": "markdown",
      "metadata": {
        "id": "ytguVl3JxpT5",
        "colab_type": "text"
      },
      "source": [
        "**Método `count ()`**\n",
        "\n",
        "Este método recibe un elemento como argumento, y cuenta la cantidad de veces que aparece en la lista."
      ]
    },
    {
      "cell_type": "code",
      "metadata": {
        "id": "mvl8u7APxnZr",
        "colab_type": "code",
        "colab": {}
      },
      "source": [
        "compras.count(100)"
      ],
      "execution_count": 0,
      "outputs": []
    },
    {
      "cell_type": "markdown",
      "metadata": {
        "id": "SkELVVJ7yL5n",
        "colab_type": "text"
      },
      "source": [
        "**Método `index()`**\n",
        "\n",
        "Este método recibe un elemento como argumento, y devuelve el índice de su primera aparición en la lista."
      ]
    },
    {
      "cell_type": "code",
      "metadata": {
        "id": "rI6gyYi7ywr4",
        "colab_type": "code",
        "colab": {}
      },
      "source": [
        "compras.index('pan')"
      ],
      "execution_count": 0,
      "outputs": []
    },
    {
      "cell_type": "markdown",
      "metadata": {
        "id": "AygIJSj-0IwH",
        "colab_type": "text"
      },
      "source": [
        "**Método `insert()`**\n",
        "\n",
        "Este método inserta un elemento en la lista, en el índice."
      ]
    },
    {
      "cell_type": "code",
      "metadata": {
        "id": "eEcuhpJ8y44a",
        "colab_type": "code",
        "colab": {}
      },
      "source": [
        "compras.insert(2,'lata')\n",
        "compras"
      ],
      "execution_count": 0,
      "outputs": []
    },
    {
      "cell_type": "markdown",
      "metadata": {
        "id": "akT5QBd70vwi",
        "colab_type": "text"
      },
      "source": [
        "**Método `pop()`**\n",
        "\n",
        "Este método devuelve el último elemento de la lista, y lo borra de la misma."
      ]
    },
    {
      "cell_type": "code",
      "metadata": {
        "id": "pkTFPzd80jHi",
        "colab_type": "code",
        "colab": {}
      },
      "source": [
        "compras.pop()"
      ],
      "execution_count": 0,
      "outputs": []
    },
    {
      "cell_type": "code",
      "metadata": {
        "id": "86n305lj1VXV",
        "colab_type": "code",
        "colab": {}
      },
      "source": [
        "compras"
      ],
      "execution_count": 0,
      "outputs": []
    },
    {
      "cell_type": "markdown",
      "metadata": {
        "id": "Z3EGvI-U18DA",
        "colab_type": "text"
      },
      "source": [
        "**Método `remove()`**\n",
        "\n",
        "Este método recibe como argumento un elemento, y borra su primera aparición en la lista."
      ]
    },
    {
      "cell_type": "code",
      "metadata": {
        "id": "48neaDJn1XGA",
        "colab_type": "code",
        "colab": {}
      },
      "source": [
        "compras.remove('papas')\n",
        "compras"
      ],
      "execution_count": 0,
      "outputs": []
    },
    {
      "cell_type": "markdown",
      "metadata": {
        "id": "j2jzZPpS2Wab",
        "colab_type": "text"
      },
      "source": [
        "**Método `sort()`**\n",
        "\n",
        "Este método ordena los elementos de una lista."
      ]
    },
    {
      "cell_type": "code",
      "metadata": {
        "id": "oy7SkghA2MXb",
        "colab_type": "code",
        "colab": {}
      },
      "source": [
        "mt = [18, 25.55, 3, 88, 2, 3.1416]\n",
        "mt.sort()\n",
        "mt"
      ],
      "execution_count": 0,
      "outputs": []
    },
    {
      "cell_type": "markdown",
      "metadata": {
        "id": "tb8nZd7b4i3j",
        "colab_type": "text"
      },
      "source": [
        "Para separar una cadena en frases, los valores pueden separarse con la función integrada **`split()`**."
      ]
    },
    {
      "cell_type": "code",
      "metadata": {
        "id": "qBpQjnn14g9R",
        "colab_type": "code",
        "colab": {}
      },
      "source": [
        "mensaje = \"Mis sinceras felicitaciones\"\n",
        "mensaje.split()"
      ],
      "execution_count": 0,
      "outputs": []
    },
    {
      "cell_type": "markdown",
      "metadata": {
        "id": "yZWOOziwi4Vb",
        "colab_type": "text"
      },
      "source": [
        "\n",
        "\n",
        "---\n",
        "\n"
      ]
    },
    {
      "cell_type": "markdown",
      "metadata": {
        "id": "SOuBBP-9asf2",
        "colab_type": "text"
      },
      "source": [
        "# Tuplas"
      ]
    }
  ]
}